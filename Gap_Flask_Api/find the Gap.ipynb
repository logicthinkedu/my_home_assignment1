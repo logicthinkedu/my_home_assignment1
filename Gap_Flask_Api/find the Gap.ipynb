{
 "cells": [
  {
   "cell_type": "code",
   "execution_count": 3,
   "metadata": {},
   "outputs": [],
   "source": [
    "import pandas as pd\n",
    "import spacy,re,json\n",
    "from flask import Flask, render_template, request\n",
    "\n",
    "import warnings\n",
    "warnings.filterwarnings('ignore')"
   ]
  },
  {
   "cell_type": "markdown",
   "metadata": {},
   "source": [
    "# import NER model"
   ]
  },
  {
   "cell_type": "code",
   "execution_count": 4,
   "metadata": {},
   "outputs": [],
   "source": [
    "ner_model = spacy.load('ner_model/')"
   ]
  },
  {
   "cell_type": "markdown",
   "metadata": {},
   "source": [
    "# import Skill Hierarchical  relation"
   ]
  },
  {
   "cell_type": "code",
   "execution_count": 5,
   "metadata": {},
   "outputs": [
    {
     "data": {
      "text/html": [
       "<div>\n",
       "<style scoped>\n",
       "    .dataframe tbody tr th:only-of-type {\n",
       "        vertical-align: middle;\n",
       "    }\n",
       "\n",
       "    .dataframe tbody tr th {\n",
       "        vertical-align: top;\n",
       "    }\n",
       "\n",
       "    .dataframe thead th {\n",
       "        text-align: right;\n",
       "    }\n",
       "</style>\n",
       "<table border=\"1\" class=\"dataframe\">\n",
       "  <thead>\n",
       "    <tr style=\"text-align: right;\">\n",
       "      <th></th>\n",
       "      <th>node1</th>\n",
       "      <th>node2</th>\n",
       "    </tr>\n",
       "  </thead>\n",
       "  <tbody>\n",
       "    <tr>\n",
       "      <th>0</th>\n",
       "      <td>data</td>\n",
       "      <td>Extract</td>\n",
       "    </tr>\n",
       "    <tr>\n",
       "      <th>1</th>\n",
       "      <td>Tableau</td>\n",
       "      <td>data visualization</td>\n",
       "    </tr>\n",
       "    <tr>\n",
       "      <th>2</th>\n",
       "      <td>Qlik</td>\n",
       "      <td>data visualization</td>\n",
       "    </tr>\n",
       "    <tr>\n",
       "      <th>3</th>\n",
       "      <td>algorithms</td>\n",
       "      <td>Deep learning</td>\n",
       "    </tr>\n",
       "    <tr>\n",
       "      <th>4</th>\n",
       "      <td>analytics</td>\n",
       "      <td>support</td>\n",
       "    </tr>\n",
       "    <tr>\n",
       "      <th>...</th>\n",
       "      <td>...</td>\n",
       "      <td>...</td>\n",
       "    </tr>\n",
       "    <tr>\n",
       "      <th>1161</th>\n",
       "      <td>artificial intelligence</td>\n",
       "      <td>algorithms</td>\n",
       "    </tr>\n",
       "    <tr>\n",
       "      <th>1165</th>\n",
       "      <td>machine learning</td>\n",
       "      <td>Advanced degree</td>\n",
       "    </tr>\n",
       "    <tr>\n",
       "      <th>1174</th>\n",
       "      <td>machine learning</td>\n",
       "      <td>data</td>\n",
       "    </tr>\n",
       "    <tr>\n",
       "      <th>1187</th>\n",
       "      <td>statistics</td>\n",
       "      <td>data analytics</td>\n",
       "    </tr>\n",
       "    <tr>\n",
       "      <th>1189</th>\n",
       "      <td>design</td>\n",
       "      <td>A/B testing</td>\n",
       "    </tr>\n",
       "  </tbody>\n",
       "</table>\n",
       "<p>252 rows × 2 columns</p>\n",
       "</div>"
      ],
      "text/plain": [
       "                        node1               node2\n",
       "0                        data             Extract\n",
       "1                     Tableau  data visualization\n",
       "2                        Qlik  data visualization\n",
       "3                  algorithms       Deep learning\n",
       "4                   analytics             support\n",
       "...                       ...                 ...\n",
       "1161  artificial intelligence          algorithms\n",
       "1165         machine learning     Advanced degree\n",
       "1174         machine learning                data\n",
       "1187               statistics      data analytics\n",
       "1189                   design         A/B testing\n",
       "\n",
       "[252 rows x 2 columns]"
      ]
     },
     "execution_count": 5,
     "metadata": {},
     "output_type": "execute_result"
    }
   ],
   "source": [
    "SKILL_Hierarchical_relation_DF = pd.read_excel(r'Hierarchical_relation_DF.xls')\n",
    "SKILL_Hierarchical_relation_DF = SKILL_Hierarchical_relation_DF.drop_duplicates()\n",
    "SKILL_Hierarchical_relation_DF"
   ]
  },
  {
   "cell_type": "markdown",
   "metadata": {},
   "source": [
    "# import Skill Correlation relation"
   ]
  },
  {
   "cell_type": "code",
   "execution_count": 6,
   "metadata": {},
   "outputs": [],
   "source": [
    "# SKILL_Correlation_relation_DF = pd.read_excel(r'Correlation_relation_Link.xls')\n",
    "# SKILL_Correlation_relation_DF = SKILL_Correlation_relation_DF.drop_duplicates()\n",
    "# SKILL_Correlation_relation_DF"
   ]
  },
  {
   "cell_type": "code",
   "execution_count": null,
   "metadata": {},
   "outputs": [],
   "source": []
  },
  {
   "cell_type": "markdown",
   "metadata": {},
   "source": [
    "# Skill relation Dict"
   ]
  },
  {
   "cell_type": "code",
   "execution_count": 7,
   "metadata": {},
   "outputs": [
    {
     "data": {
      "text/plain": [
       "{'data': 'Data consumption',\n",
       " 'Tableau': 'data',\n",
       " 'Qlik': 'Tableau',\n",
       " 'algorithms': 'Data exploration',\n",
       " 'analytics': 'architecture',\n",
       " 'Software': 'Dashboards',\n",
       " 'statistical modeling': 'data',\n",
       " 'mechanics': 'Research',\n",
       " 'relational databases': 'data',\n",
       " 'SQL Server': 'MS Office',\n",
       " 'Outlook': 'Microsoft Office',\n",
       " 'Excel': 'MS Office',\n",
       " 'Word': 'MS Office',\n",
       " 'PowerPoint': 'MS Office',\n",
       " 'Python': 'Data consumption',\n",
       " 'Pandas': 'analytics',\n",
       " 'MongoDB': 'Neo4j',\n",
       " 'SQL': 'data analysis',\n",
       " 'statistics': 'data analytics',\n",
       " 'predictive modeling': 'data',\n",
       " 'machine learning': 'data',\n",
       " 'optimization': 'dashboards',\n",
       " 'hypothesis testing': 'hypothesis testing',\n",
       " 'R': 'Data consumption',\n",
       " 'Matlab': 'statistical software',\n",
       " 'Spotfire': 'data visualization',\n",
       " 'TensorFlow': 'models',\n",
       " 'Keras': 'Deep learning',\n",
       " 'architecture': 'Minimum',\n",
       " 'analysis': 'advanced analytics',\n",
       " 'Python/R': 'software',\n",
       " 'testing': 'Business Analytics',\n",
       " 'Spark': 'Big Data',\n",
       " 'H2O': 'learning',\n",
       " 'MySQL': 'SQL Server',\n",
       " 'neural networks': 'machine learning',\n",
       " 'NoSQL': 'databases',\n",
       " 'Julia': 'statistical software',\n",
       " 'MATLAB': 'scripting',\n",
       " 'Cisco': 'Cisco',\n",
       " 'statistical algorithms': 'models',\n",
       " 'Scala': 'languages',\n",
       " 'Java': 'data',\n",
       " 'predictive analytics': 'automation',\n",
       " 'statistical software': 'data',\n",
       " 'research': 'machine learning',\n",
       " 'skills': 'research',\n",
       " 'Machine Learning': 'Design',\n",
       " 'data visualization': 'data analytics',\n",
       " 'design': 'A/B testing',\n",
       " 'support': 'software development',\n",
       " 'SAS': 'advanced statistical analysis',\n",
       " 'learning': 'computer science',\n",
       " 'database': 'computer science',\n",
       " 'visualization': 'dashboards',\n",
       " 'performance': 'models',\n",
       " 'loading': 'support',\n",
       " 'language': 'scripting',\n",
       " 'HR': 'Research',\n",
       " 'artificial intelligence': 'algorithms',\n",
       " 'AI': 'data analysis',\n",
       " 'NLP': 'models',\n",
       " 'Bachelors': 'R',\n",
       " 'MS Access': 'data',\n",
       " 'Data Management': 'Data',\n",
       " 'Data Intelligence': 'Data',\n",
       " 'IoT': 'Data',\n",
       " 'graphics': 'excel',\n",
       " 'T-SQL': 'Microsoft SQL Server',\n",
       " 'S3': 'EMR',\n",
       " 'dashboards': 'Data Analytics',\n",
       " 'Deep Learning': 'Deep Learning',\n",
       " 'data structuring': 'data analysis',\n",
       " 'deep learning': 'deep learning',\n",
       " 'HDFS': 'Design',\n",
       " 'RDBMS': 'databases',\n",
       " 'SSIS': 'data',\n",
       " 'relational': 'databases',\n",
       " 'Graph': 'databases',\n",
       " 'automation': 'models',\n",
       " 'Visual Basic': 'Microsoft Excel',\n",
       " 'wrangling': 'data analysis',\n",
       " 'surveys': 'troubleshooting',\n",
       " 'Spark ML': 'Design',\n",
       " 'Hive': 'Design',\n",
       " 'Spring': 'Design',\n",
       " 'Hadoop': 'Big Data',\n",
       " 'ElasticSearch': 'MongoDB',\n",
       " 'Economics': 'Advanced degree',\n",
       " 'Mathematics': 'Advanced degree',\n",
       " 'Statistics': 'Advanced degree',\n",
       " 'Engineering': 'Advanced degree',\n",
       " 'Operations Research': 'Advanced degree',\n",
       " 'data analysis': 'Advanced degree',\n",
       " 'compensation': 'analysis',\n",
       " 'Sagemaker': 'S3',\n",
       " 'models': 'design',\n",
       " 'marketing': 'models',\n",
       " 'C++': 'Programming',\n",
       " 'JMP': 'statistical software',\n",
       " 'statistical analysis': 'data processing',\n",
       " 'languages': 'Scripting',\n",
       " 'Tensorflow': 'Deep learning',\n",
       " 'PyTorch': 'Deep learning',\n",
       " 'network modeling': 'optimization',\n",
       " 'PySpark': 'languages',\n",
       " 'text mining': 'advanced analytics',\n",
       " 'SPARK': 'Microsoft Azure',\n",
       " 'Neural Networks': 'machine learning',\n",
       " 'Decision Trees': 'algorithms',\n",
       " 'SVM': 'algorithms',\n",
       " 'Logistic Regression': 'algorithms',\n",
       " 'Sales': 'support',\n",
       " 'Marketing': 'support',\n",
       " 'convolutional neural networks': 'testing',\n",
       " 'Convolutional Neural Networks': 'deep learning',\n",
       " 'XGBoost': 'algorithms'}"
      ]
     },
     "execution_count": 7,
     "metadata": {},
     "output_type": "execute_result"
    }
   ],
   "source": [
    "SKILL_relation_Dict = {}\n",
    "\n",
    "for ind, row in SKILL_Hierarchical_relation_DF.iterrows():\n",
    "    SKILL_relation_Dict[row['node1']] = row['node2']\n",
    "    \n",
    "    \n",
    "# for ind, row in SKILL_Correlation_relation_DF.iterrows():\n",
    "#     SKILL_relation_Dict[row['node1']] = row['node2']\n",
    "    \n",
    "SKILL_relation_Dict"
   ]
  },
  {
   "cell_type": "code",
   "execution_count": null,
   "metadata": {},
   "outputs": [],
   "source": []
  },
  {
   "cell_type": "code",
   "execution_count": null,
   "metadata": {},
   "outputs": [
    {
     "name": "stdout",
     "output_type": "stream",
     "text": [
      " * Serving Flask app \"__main__\" (lazy loading)\n",
      " * Environment: production\n",
      "   WARNING: Do not use the development server in a production environment.\n",
      "   Use a production WSGI server instead.\n",
      " * Debug mode: off\n"
     ]
    },
    {
     "name": "stderr",
     "output_type": "stream",
     "text": [
      " * Running on http://0.0.0.0:5553/ (Press CTRL+C to quit)\n",
      "127.0.0.1 - - [08/May/2020 20:07:58] \"\u001b[37mPOST /get_gap/ HTTP/1.1\u001b[0m\" 200 -\n"
     ]
    },
    {
     "name": "stdout",
     "output_type": "stream",
     "text": [
      "get_gap\n",
      "skill word in JD: ['HTML5', 'CSS3', 'JavaScript', 'HTML', 'CSS', 'JQuery']\n",
      "skill word in CV: ['PHP', 'SQL', '.NET', 'Oracle', 'Visual Basic', 'data analysis', 'JavaScript', 'CSS', 'C#', 'PERL', 'ASP', 'Access', 'Ajax', 'WordPress', 'XML', 'Microsoft Excel']\n",
      "gap_list ['HTML5', 'CSS3', 'HTML', 'JQuery']\n"
     ]
    }
   ],
   "source": [
    "app = Flask(__name__)\n",
    "\n",
    "@app.route('/get_gap/', methods=['POST'])\n",
    "# 返回最接近的向量\n",
    "def get_simmilar():\n",
    "    print( 'get_gap' )\n",
    "    \n",
    "    JD = eval(request.get_data())['JD']\n",
    "    CV = eval(request.get_data())['CV']\n",
    "    \n",
    "    ## skill word in JD\n",
    "    doc = ner_model(JD)\n",
    "    JD_tem_list = []\n",
    "    for chunk in doc.ents:\n",
    "        JD_tem_list.append( chunk.text )\n",
    "    JD_tem_list = list(set(JD_tem_list))\n",
    "    print( 'skill word in JD:', JD_tem_list)\n",
    "\n",
    "    ## skill word in CV\n",
    "    doc = ner_model(CV)\n",
    "    CV_tem_list = []\n",
    "    for chunk in doc.ents:\n",
    "        CV_tem_list.append( chunk.text )\n",
    "    CV_tem_list = list(set(CV_tem_list))\n",
    "\n",
    "    CV_tem_list_expand = []\n",
    "    for tem in CV_tem_list:\n",
    "        CV_tem_list_expand.append( str(tem) )\n",
    "        if SKILL_relation_Dict.get( str(tem),None ) != None:\n",
    "            CV_tem_list_expand.append( SKILL_relation_Dict.get( str(tem),None ) )\n",
    "\n",
    "    CV_tem_list_expand = list(set(CV_tem_list_expand))\n",
    "    print( 'skill word in CV:', CV_tem_list_expand)\n",
    "    \n",
    "    \n",
    "    gap_tem_list = []\n",
    "    for t1 in JD_tem_list:\n",
    "        if t1 not in CV_tem_list_expand:\n",
    "            gap_tem_list.append( t1 )\n",
    "            \n",
    "    print( 'gap_list', gap_tem_list)\n",
    "    response = { 'gap_list': gap_tem_list}\n",
    "    \n",
    "    return str(response)\n",
    "\n",
    "if __name__ == '__main__':\n",
    "    app.run(host=\"0.0.0.0\", port=5553)"
   ]
  },
  {
   "cell_type": "code",
   "execution_count": null,
   "metadata": {},
   "outputs": [],
   "source": []
  },
  {
   "cell_type": "code",
   "execution_count": null,
   "metadata": {},
   "outputs": [],
   "source": []
  },
  {
   "cell_type": "code",
   "execution_count": null,
   "metadata": {},
   "outputs": [],
   "source": []
  }
 ],
 "metadata": {
  "kernelspec": {
   "display_name": "Python 3",
   "language": "python",
   "name": "python3"
  },
  "language_info": {
   "codemirror_mode": {
    "name": "ipython",
    "version": 3
   },
   "file_extension": ".py",
   "mimetype": "text/x-python",
   "name": "python",
   "nbconvert_exporter": "python",
   "pygments_lexer": "ipython3",
   "version": "3.6.5"
  }
 },
 "nbformat": 4,
 "nbformat_minor": 2
}

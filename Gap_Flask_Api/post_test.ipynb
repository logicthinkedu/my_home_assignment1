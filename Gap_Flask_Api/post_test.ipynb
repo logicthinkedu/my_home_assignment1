{
 "cells": [
  {
   "cell_type": "code",
   "execution_count": 1,
   "metadata": {},
   "outputs": [
    {
     "name": "stdout",
     "output_type": "stream",
     "text": [
      "{'gap_list': ['HTML5', 'CSS3', 'HTML', 'JQuery']}\n"
     ]
    }
   ],
   "source": [
    "import requests,json\n",
    "from pprint import pprint\n",
    "\n",
    "url='http://127.0.0.1:5553/get_gap/'\n",
    "res = requests.post(url, data= json.dumps(\n",
    "    { \n",
    "        'JD':\n",
    "         '''Web Developer Job Responsibilities:\n",
    "                The role is responsible for designing, coding and modifying websites, from layout to function and according to a client's specifications. Strive to create visually appealing sites that feature user-friendly design and clear navigation.\n",
    "\n",
    "                Web Developer Job Duties:\n",
    "                Regular exposure to business stakeholders and executive management, as well as the authority and scope to apply your expertise to many interesting technical problems.\n",
    "                Candidate must have a strong understanding of UI, cross-browser compatibility, general web functions and standards.\n",
    "                The position requires constant communication with colleagues.\n",
    "                Experience in planning and delivering software platforms used across multiple products and organizational units.\n",
    "                Deep expertise and hands on experience with Web Applications and programming languages such as HTML, CSS, JavaScript, JQuery and API's.\n",
    "                Deep functional knowledge or hands on design experience with Web Services (REST, SOAP, etc ..) is needed to be successful in this position.\n",
    "                Strong grasp of security principles and how they apply to E-Commerce applications.\n",
    "                Web Developer Skills and Qualifications:\n",
    "                JavaScript, JQuery, HTML, HTML5, CSS, CSS3, Web Programming Skills, E-Commerce, Teamwork, Verbal Communication, cross-browser compatibility, Web User Interface Design (UI), Security Principles, Object-Oriented Design, Web Services (REST/SOAP), Multimedia Content Development, API's''',\n",
    "     \n",
    "     'CV':'''Adam West\n",
    "            200 West Commonwealth Avenue, Fullerton, CA 92832\n",
    "\n",
    "            (714) 463-7533\n",
    "\n",
    "            adam.west@gmail.com\n",
    "\n",
    "            Web Developer with 8 years of experience in designing and developing user interfaces, testing, debugging, and training staff within eCommerce technologies. Proven ability in optimizing web functionality that improve data retrieval and workflow efficiencies.\n",
    "\n",
    "            PROFESSIONAL EXPERIENCE\n",
    "            GROOMING TECHNOLOGIES – Fullerton, CA\n",
    "            Web DeveloperMay 2010 – Present\n",
    "\n",
    "            Skills & Tools: PHP, PERL, Access, Oracle, .NET, CSS\n",
    "\n",
    "            Revamped web application security applications, minimizing hacker attacks from 2.3% to 0.02%\n",
    "            Designed and developed user-friendly website, including optimized check-out page that increased user clicks, and subsequently customer purchases by 20%\n",
    "            Trained over 50 staff members in internal web functions, including steps on how to independently make minor updates or changes\n",
    "            Fixed bugs from existing websites and implemented enhancements that significantly improved web functionality and speed\n",
    "            FOCUS SOLUTIONS – Fullerton, CA\n",
    "            Web DeveloperJun 2007 – Apr 2010\n",
    "\n",
    "            Skills & Tools: ASP, SQL, JavaScript, Visual Basic, XML, C#, Ajax, HTML\n",
    "\n",
    "            Developed dynamic and interactive website that ensured high traffic, page views, and User Experience, resulting in 40% increase in sales revenue\n",
    "            Oversaw full lifecycle of software development for 9 projects with 100% on time delivery while staying 5% under budget\n",
    "            Implemented server that expedited document generation and search functionality by 20%, earning commendation and award from upper management\n",
    "            Designed processes for cleanup and performance improvement, that minimized downtime by 13%\n",
    "            EDUCATION\n",
    "            CALIFORNIA STATE UNIVERSITY – Fullerton, CA\n",
    "            Bachelor of Science in Web Development\n",
    "\n",
    "            GPA: 3.6 / 4.0\n",
    "            ADDITIONAL SKILLS\n",
    "            Proficient in WordPress, Dreamweaver, and Photoshop\n",
    "            Ability to communicate with cross-functional teams\n",
    "            Certified Java Programmer'''\n",
    "\n",
    "    }\n",
    "))\n",
    "\n",
    "pprint( eval(res.text) )\n"
   ]
  },
  {
   "cell_type": "code",
   "execution_count": null,
   "metadata": {},
   "outputs": [],
   "source": []
  }
 ],
 "metadata": {
  "kernelspec": {
   "display_name": "Python 3",
   "language": "python",
   "name": "python3"
  },
  "language_info": {
   "codemirror_mode": {
    "name": "ipython",
    "version": 3
   },
   "file_extension": ".py",
   "mimetype": "text/x-python",
   "name": "python",
   "nbconvert_exporter": "python",
   "pygments_lexer": "ipython3",
   "version": "3.6.5"
  }
 },
 "nbformat": 4,
 "nbformat_minor": 2
}

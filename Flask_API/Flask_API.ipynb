{
 "cells": [
  {
   "cell_type": "code",
   "execution_count": 1,
   "metadata": {},
   "outputs": [],
   "source": [
    "import re\n",
    "import pandas as pd\n",
    "import numpy as np\n",
    "\n",
    "import tensorflow.keras as keras\n",
    "from tensorflow.keras.models import load_model\n",
    "import tensorflow as tf\n",
    "\n",
    "from flask import Flask, render_template, request"
   ]
  },
  {
   "cell_type": "markdown",
   "metadata": {},
   "source": [
    "# 导入词表"
   ]
  },
  {
   "cell_type": "code",
   "execution_count": 2,
   "metadata": {},
   "outputs": [],
   "source": [
    "import json\n",
    "with open(r'dataset/word2idx.json', \"r\") as f:\n",
    "    word2idx = json.load(f)"
   ]
  },
  {
   "cell_type": "code",
   "execution_count": 3,
   "metadata": {},
   "outputs": [],
   "source": [
    "max_word_length = 500\n",
    "max_seq_length = 512"
   ]
  },
  {
   "cell_type": "markdown",
   "metadata": {},
   "source": [
    "# 导入模型"
   ]
  },
  {
   "cell_type": "code",
   "execution_count": 4,
   "metadata": {},
   "outputs": [],
   "source": [
    "textCNN_model = load_model(r'model_save/model.h5')\n",
    "\n",
    "layer_output = textCNN_model.get_layer('concatenate').output\n",
    "intermediate_model = tf.keras.models.Model(inputs=textCNN_model.input,outputs=layer_output)"
   ]
  },
  {
   "cell_type": "markdown",
   "metadata": {},
   "source": [
    "# 导入数据"
   ]
  },
  {
   "cell_type": "code",
   "execution_count": 5,
   "metadata": {},
   "outputs": [
    {
     "data": {
      "text/html": [
       "<div>\n",
       "<style scoped>\n",
       "    .dataframe tbody tr th:only-of-type {\n",
       "        vertical-align: middle;\n",
       "    }\n",
       "\n",
       "    .dataframe tbody tr th {\n",
       "        vertical-align: top;\n",
       "    }\n",
       "\n",
       "    .dataframe thead th {\n",
       "        text-align: right;\n",
       "    }\n",
       "</style>\n",
       "<table border=\"1\" class=\"dataframe\">\n",
       "  <thead>\n",
       "    <tr style=\"text-align: right;\">\n",
       "      <th></th>\n",
       "      <th>Query</th>\n",
       "      <th>Description</th>\n",
       "    </tr>\n",
       "  </thead>\n",
       "  <tbody>\n",
       "    <tr>\n",
       "      <th>55701</th>\n",
       "      <td>Receptionist</td>\n",
       "      <td>&lt;strong&gt;Classification: &lt;/strong&gt;  Receptionis...</td>\n",
       "    </tr>\n",
       "    <tr>\n",
       "      <th>62628</th>\n",
       "      <td>Retail Sales Associate</td>\n",
       "      <td>&lt;p&gt;We are currently seeking Part Time Retail S...</td>\n",
       "    </tr>\n",
       "    <tr>\n",
       "      <th>29347</th>\n",
       "      <td>Business Analyst</td>\n",
       "      <td>&lt;B&gt;Job Classification: &lt;/B&gt; Direct Hire \\r\\n\\r...</td>\n",
       "    </tr>\n",
       "    <tr>\n",
       "      <th>58949</th>\n",
       "      <td>Retail Wireless Sales Consultant</td>\n",
       "      <td>&lt;p style=\"text-align: center\"&gt;&lt;strong&gt;GOWIRELE...</td>\n",
       "    </tr>\n",
       "    <tr>\n",
       "      <th>19564</th>\n",
       "      <td>Inside Sales Representative</td>\n",
       "      <td>&lt;DIV&gt;\\r&lt;P&gt;&lt;B&gt;&lt;SPAN&gt;An exciting opportunity now...</td>\n",
       "    </tr>\n",
       "    <tr>\n",
       "      <th>13006</th>\n",
       "      <td>Store Manager</td>\n",
       "      <td>&lt;p align=\"justify\"&gt;&lt;strong&gt;Check 'n Go &lt;/stron...</td>\n",
       "    </tr>\n",
       "    <tr>\n",
       "      <th>69206</th>\n",
       "      <td>Sales / Franchise</td>\n",
       "      <td>&lt;p&gt;A &lt;strong&gt;Snap-on Tools franchise &lt;/strong&gt;...</td>\n",
       "    </tr>\n",
       "    <tr>\n",
       "      <th>49431</th>\n",
       "      <td>Retail Sales Associate</td>\n",
       "      <td>&lt;div align=\"left\"&gt;&lt;strong&gt;&amp;nbsp;&amp;nbsp; &lt;/stron...</td>\n",
       "    </tr>\n",
       "    <tr>\n",
       "      <th>23635</th>\n",
       "      <td>Restaurant Manager</td>\n",
       "      <td>&lt;p&gt;Join a team that is all about sports, great...</td>\n",
       "    </tr>\n",
       "    <tr>\n",
       "      <th>38091</th>\n",
       "      <td>Executive Assistant</td>\n",
       "      <td>&lt;div&gt;\\r&lt;p&gt;&lt;span&gt;A well-known utilities company...</td>\n",
       "    </tr>\n",
       "  </tbody>\n",
       "</table>\n",
       "</div>"
      ],
      "text/plain": [
       "                                  Query  \\\n",
       "55701                      Receptionist   \n",
       "62628            Retail Sales Associate   \n",
       "29347                  Business Analyst   \n",
       "58949  Retail Wireless Sales Consultant   \n",
       "19564       Inside Sales Representative   \n",
       "13006                     Store Manager   \n",
       "69206                 Sales / Franchise   \n",
       "49431            Retail Sales Associate   \n",
       "23635                Restaurant Manager   \n",
       "38091               Executive Assistant   \n",
       "\n",
       "                                             Description  \n",
       "55701  <strong>Classification: </strong>  Receptionis...  \n",
       "62628  <p>We are currently seeking Part Time Retail S...  \n",
       "29347  <B>Job Classification: </B> Direct Hire \\r\\n\\r...  \n",
       "58949  <p style=\"text-align: center\"><strong>GOWIRELE...  \n",
       "19564  <DIV>\\r<P><B><SPAN>An exciting opportunity now...  \n",
       "13006  <p align=\"justify\"><strong>Check 'n Go </stron...  \n",
       "69206  <p>A <strong>Snap-on Tools franchise </strong>...  \n",
       "49431  <div align=\"left\"><strong>&nbsp;&nbsp; </stron...  \n",
       "23635  <p>Join a team that is all about sports, great...  \n",
       "38091  <div>\\r<p><span>A well-known utilities company...  "
      ]
     },
     "execution_count": 5,
     "metadata": {},
     "output_type": "execute_result"
    }
   ],
   "source": [
    "data = pd.read_csv(r'dataset/JD_dataset.csv',usecols = ['Query','Description'])\n",
    "data.sample(10)"
   ]
  },
  {
   "cell_type": "markdown",
   "metadata": {},
   "source": [
    "# 文本预处理"
   ]
  },
  {
   "cell_type": "code",
   "execution_count": 6,
   "metadata": {},
   "outputs": [
    {
     "data": {
      "text/html": [
       "<div>\n",
       "<style scoped>\n",
       "    .dataframe tbody tr th:only-of-type {\n",
       "        vertical-align: middle;\n",
       "    }\n",
       "\n",
       "    .dataframe tbody tr th {\n",
       "        vertical-align: top;\n",
       "    }\n",
       "\n",
       "    .dataframe thead th {\n",
       "        text-align: right;\n",
       "    }\n",
       "</style>\n",
       "<table border=\"1\" class=\"dataframe\">\n",
       "  <thead>\n",
       "    <tr style=\"text-align: right;\">\n",
       "      <th></th>\n",
       "      <th>Query</th>\n",
       "      <th>Description</th>\n",
       "      <th>word_list</th>\n",
       "    </tr>\n",
       "  </thead>\n",
       "  <tbody>\n",
       "    <tr>\n",
       "      <th>56770</th>\n",
       "      <td>Mobile Tool Sales / Franchise Distributor</td>\n",
       "      <td>do you enjoy outside sales interacting with pe...</td>\n",
       "      <td>[do, you, enjoy, outside, sales, interacting, ...</td>\n",
       "    </tr>\n",
       "    <tr>\n",
       "      <th>18334</th>\n",
       "      <td>Customer Service - Sales Representative - Part...</td>\n",
       "      <td>want to get started with a rapidly growing and...</td>\n",
       "      <td>[want, to, get, started, with, a, rapidly, gro...</td>\n",
       "    </tr>\n",
       "    <tr>\n",
       "      <th>49418</th>\n",
       "      <td>Store Manager</td>\n",
       "      <td>looking for a better opportunity looking for a...</td>\n",
       "      <td>[looking, for, a, better, opportunity, looking...</td>\n",
       "    </tr>\n",
       "    <tr>\n",
       "      <th>72176</th>\n",
       "      <td>Business Analyst</td>\n",
       "      <td>junior business analyst gather document manage...</td>\n",
       "      <td>[junior, business, analyst, gather, document, ...</td>\n",
       "    </tr>\n",
       "    <tr>\n",
       "      <th>46035</th>\n",
       "      <td>Business Analyst</td>\n",
       "      <td>a business analyst ba has a minimum of five 5 ...</td>\n",
       "      <td>[a, business, analyst, ba, has, a, minimum, of...</td>\n",
       "    </tr>\n",
       "    <tr>\n",
       "      <th>35472</th>\n",
       "      <td>Business Analyst</td>\n",
       "      <td>a pitney bowes business analyst for distributi...</td>\n",
       "      <td>[a, pitney, bowes, business, analyst, for, dis...</td>\n",
       "    </tr>\n",
       "    <tr>\n",
       "      <th>4156</th>\n",
       "      <td>Store Manager</td>\n",
       "      <td>candidates must have strong leadership skills ...</td>\n",
       "      <td>[candidates, must, have, strong, leadership, s...</td>\n",
       "    </tr>\n",
       "    <tr>\n",
       "      <th>26992</th>\n",
       "      <td>Customer Service Representative</td>\n",
       "      <td>classification customer service compensation 1...</td>\n",
       "      <td>[classification, customer, service, compensati...</td>\n",
       "    </tr>\n",
       "    <tr>\n",
       "      <th>32985</th>\n",
       "      <td>Sales Representative</td>\n",
       "      <td></td>\n",
       "      <td>[]</td>\n",
       "    </tr>\n",
       "    <tr>\n",
       "      <th>57633</th>\n",
       "      <td>Staff Accountant</td>\n",
       "      <td>t staff accountant tnorthern va ttemp to hire ...</td>\n",
       "      <td>[t, staff, accountant, tnorthern, va, ttemp, t...</td>\n",
       "    </tr>\n",
       "  </tbody>\n",
       "</table>\n",
       "</div>"
      ],
      "text/plain": [
       "                                                   Query  \\\n",
       "56770          Mobile Tool Sales / Franchise Distributor   \n",
       "18334  Customer Service - Sales Representative - Part...   \n",
       "49418                                      Store Manager   \n",
       "72176                                   Business Analyst   \n",
       "46035                                   Business Analyst   \n",
       "35472                                   Business Analyst   \n",
       "4156                                       Store Manager   \n",
       "26992                    Customer Service Representative   \n",
       "32985                               Sales Representative   \n",
       "57633                                   Staff Accountant   \n",
       "\n",
       "                                             Description  \\\n",
       "56770  do you enjoy outside sales interacting with pe...   \n",
       "18334  want to get started with a rapidly growing and...   \n",
       "49418  looking for a better opportunity looking for a...   \n",
       "72176  junior business analyst gather document manage...   \n",
       "46035  a business analyst ba has a minimum of five 5 ...   \n",
       "35472  a pitney bowes business analyst for distributi...   \n",
       "4156   candidates must have strong leadership skills ...   \n",
       "26992  classification customer service compensation 1...   \n",
       "32985                                                      \n",
       "57633  t staff accountant tnorthern va ttemp to hire ...   \n",
       "\n",
       "                                               word_list  \n",
       "56770  [do, you, enjoy, outside, sales, interacting, ...  \n",
       "18334  [want, to, get, started, with, a, rapidly, gro...  \n",
       "49418  [looking, for, a, better, opportunity, looking...  \n",
       "72176  [junior, business, analyst, gather, document, ...  \n",
       "46035  [a, business, analyst, ba, has, a, minimum, of...  \n",
       "35472  [a, pitney, bowes, business, analyst, for, dis...  \n",
       "4156   [candidates, must, have, strong, leadership, s...  \n",
       "26992  [classification, customer, service, compensati...  \n",
       "32985                                                 []  \n",
       "57633  [t, staff, accountant, tnorthern, va, ttemp, t...  "
      ]
     },
     "execution_count": 6,
     "metadata": {},
     "output_type": "execute_result"
    }
   ],
   "source": [
    "REPLACE_BY_SPACE_RE = re.compile('[/(){}\\[\\]\\|@,;]')\n",
    "BAD_SYMBOLS_RE = re.compile('[^0-9a-z #+_]')\n",
    "cleanr = re.compile('<.*?>|&([a-z0-9]+|#[0-9]{1,6}|#x[0-9a-f]{1,6});')\n",
    "\n",
    "def clean_text(text):\n",
    "    text = text.replace(r'\\\\n', ' ').replace(r'\\\\r', ' ').replace(r'\\r', ' ').replace(r'\\n', ' ')\n",
    "    text = cleanr.sub(' ', text)\n",
    "    \n",
    "    text = text.lower() # lowercase text\n",
    "    text = REPLACE_BY_SPACE_RE.sub(' ', text) # replace REPLACE_BY_SPACE_RE symbols by space in text. substitute the matched string in REPLACE_BY_SPACE_RE with space.\n",
    "    text = BAD_SYMBOLS_RE.sub('', text) # remove symbols which are in BAD_SYMBOLS_RE from text. substitute the matched string in BAD_SYMBOLS_RE with nothing. \n",
    "\n",
    "    text = ' '.join(word for word in text.split()) # remove stopwors from text\n",
    "    return text\n",
    "\n",
    "def string_process(l):\n",
    "    return l.split()[:max_word_length]\n",
    "\n",
    "data['Description'] = data['Description'].apply(clean_text)\n",
    "data['word_list'] = data['Description'].apply( string_process )\n",
    "data.sample(10)"
   ]
  },
  {
   "cell_type": "code",
   "execution_count": 7,
   "metadata": {},
   "outputs": [],
   "source": [
    "def PreProcessInputData( text ):\n",
    "    word_labels = []\n",
    "\n",
    "    for sequence in text:\n",
    "        len_text = len(sequence)\n",
    "\n",
    "        ###########################################\n",
    "        temp_word_labels = []\n",
    "        for w in sequence:\n",
    "            temp_word_labels.append( word2idx.get( str(w).lower(),1 ) )\n",
    "\n",
    "        ###########################################\n",
    "        temp_word_labels = temp_word_labels + [0] * ( max_seq_length - len_text )\n",
    "        word_labels.append( temp_word_labels )\n",
    "\n",
    "    return word_labels"
   ]
  },
  {
   "cell_type": "markdown",
   "metadata": {},
   "source": [
    "# 简历转向量矩阵"
   ]
  },
  {
   "cell_type": "code",
   "execution_count": 8,
   "metadata": {},
   "outputs": [],
   "source": [
    "XX = np.array( PreProcessInputData( data['word_list'] ) )\n",
    "intermediate_prediction = intermediate_model.predict( XX )\n",
    "\n",
    "JD_Vector_List = []\n",
    "for i in range(0,len(intermediate_prediction)):\n",
    "    JD_Vector_List.append( intermediate_prediction[i][0][0] )"
   ]
  },
  {
   "cell_type": "code",
   "execution_count": null,
   "metadata": {},
   "outputs": [],
   "source": []
  },
  {
   "cell_type": "markdown",
   "metadata": {},
   "source": [
    "# 用 FAISS 对向量矩阵做索引"
   ]
  },
  {
   "cell_type": "code",
   "execution_count": 9,
   "metadata": {},
   "outputs": [],
   "source": [
    "import numpy as np\n",
    "import faiss                   # make faiss available\n",
    "\n",
    "# 构造数据\n",
    "import time\n",
    "d = 500                           # dimension\n",
    "nb = len(JD_Vector_List)                      # database size\n",
    "\n",
    "np.random.seed(1234)             # make reproducible\n",
    "xb = np.array( JD_Vector_List ).astype('float32')"
   ]
  },
  {
   "cell_type": "code",
   "execution_count": 10,
   "metadata": {},
   "outputs": [
    {
     "name": "stdout",
     "output_type": "stream",
     "text": [
      "True\n",
      "72292\n"
     ]
    }
   ],
   "source": [
    "# %time index = faiss.IndexFlatL2(d)   # build the index\n",
    "index = faiss.IndexFlatL2(d)   # build the index\n",
    "\n",
    "print(index.is_trained)\n",
    "index.add(xb)                  # add vectors to the index\n",
    "print(index.ntotal)"
   ]
  },
  {
   "cell_type": "code",
   "execution_count": null,
   "metadata": {},
   "outputs": [],
   "source": []
  },
  {
   "cell_type": "markdown",
   "metadata": {},
   "source": [
    "# 启动 Flask"
   ]
  },
  {
   "cell_type": "code",
   "execution_count": null,
   "metadata": {},
   "outputs": [
    {
     "name": "stdout",
     "output_type": "stream",
     "text": [
      " * Serving Flask app \"__main__\" (lazy loading)\n",
      " * Environment: production\n",
      "   WARNING: This is a development server. Do not use it in a production deployment.\n",
      "   Use a production WSGI server instead.\n",
      " * Debug mode: off\n"
     ]
    },
    {
     "name": "stderr",
     "output_type": "stream",
     "text": [
      "WARNING: Logging before flag parsing goes to stderr.\n",
      "I0507 23:44:57.047859 139789835323200 _internal.py:122]  * Running on http://0.0.0.0:3335/ (Press CTRL+C to quit)\n",
      "I0507 23:46:12.340965 139788311398144 _internal.py:122] 127.0.0.1 - - [07/May/2020 23:46:12] \"\u001b[37mPOST /get_simmilar/ HTTP/1.1\u001b[0m\" 200 -\n"
     ]
    },
    {
     "name": "stdout",
     "output_type": "stream",
     "text": [
      "get_simmilar\n",
      "business analyst singapore graduated with a degree in economics from the university of queensland i have experience working in an office environment and team setting from my time in national service and during internships i am a diligent and a fast learner and i place utmost importance in ensuring quality and professionalism in my workwork experiencebusiness analystmaybank singaporejune 2018 to presentuat coordinator to liaise between users and it to rectify defects and report progress of testing to project director extraction and reporting of uat progression and results from hp alm end to end testing for payment and settlement related projects capturing and extracting relevant data and compilation of test scripts liaise with it to ensure all backend screens as400 correctly shows transactions from user testsinterncimb bank singapore commercial banking compliance and operational riskjanuary 2017 to february 2017 administrative paperwork checking and organising of audit documents making sure appropriate documents and forms have been filled in accordance with regulation verifying and validating appropriate folders and documents are updated and archived preciselytemp administrative assistantcimb bank singapore commercial banking emerging businessesmarch 2014 to may 2014drafted daily and weekly reports using word and excel for relationship managers based on sales figures and projected targets helped compile and distribute employee notices and reports from oracle bi researched information for higherups using as400 norkomintel assistantsingapore armed forcesapril 2012 to february 2014 wrote detailed weekly reports pertaining to area of coverage maintained appropriate filing of classified documents daily researching of past and present history and current trends relating to area of coverage composed daily summaries during overnight duties to be sent to saf command chaineducationbachelor of economics in business and industrythe university of queensland st lucia qldjuly 2014 to december 2017a levelscatholic junior collegefebruary 2010 to december 2011as400 hp alm ms officelinkshttps wwwlinkedincom in wenxiannga4285a160additional information microsoft office as400 hp alm adaptable works well under pressure activities interests fencing interschool championships 2007 individual 3rd team 2nd asian schools championships 2007 team 3rd muai thai american football basketball\n",
      "------------------------------------------------------------------------------------------------------------------------\n",
      "Business Analyst\n",
      "mission karat karat ha reengineered technical hiring ensure great talent get noticed great company augment engineering organization conducting firstrounds technical interview behalf use data analytics platform make hiring decision intelligent predictive service save material engineering time drive highly responsive consistent experience candidate karat continuously invests cutting edge interview methodology aim reducing bias letting candidate demonstrate true ability operate strategic partner engineering leader world s leading technology company including jet mulesoft pinterest indeed roblox intuit tenx minted many gold standard technical interviewing wellfunded company scaling quickly meet growing list client s need come join u ll work clean manipulate large volume data modeling analysis internal external stakeholder create support maintain data model report dashboard find creative solution growing data requirement become focal point data matter organization ongoing project daily adhoc request contextualize insight analysis drive actionable recommendation client internal operation help develop playbook process team use scale inspired mission karat minimum 2 year experience analyst role working large data set and or complex excel model ready approach every problem entrepreneur grit creativity persistence analytically minded problemsolving aptitude detailoriented proactive comfortable taking initiative selfstarter comfortable working fastpaced environment proficient excel and or r python appreciate interest role look forward learning background statement nondiscrimination karat believe building inclusive culture key driver success keeping belief goal employee applicant face discrimination harassment based race color ancestry national origin religion age gender marital domestic partner status sexual orientation gender identity expression disability status veteran status beyond discrimination harassment based protected category also strive prevent subtler form inappropriate behavior eg stereotyping ever gaining foothold office whether blatant hidden barrier success place karat information kept confidential according eeo guideline thanks level playing field institute statement non discrimination\n",
      "------------------------------------------------------------------------------------------------------------------------\n",
      "Business Analyst\n",
      "minnesota judicial branch searching court operation analyst court service division mobility position fulltime temporary position assist statewide harassment restraining order project position serve subject matter expert provide technical expertise requirement business process practice harassment restraining order case minnesota trial court position assist project team external partner agency project relates court business operation mncis related system duration temporary position 18 month position located mjc consideration given working remote reporting mjc needed basis travel required onsite location position learns current statewide business process inform development process deliver case information bureau criminal apprehension bca relayed national crime information center ncic example duty serf subject matter expert harassment restraining order court case type assist project team workgroups provide subject matter expertise promote optimal business practice trial court justice partner directly impacted project example criminal justice partner bureau criminal apprehension provides support project team member meeting communication justice partner promotes support recommended business process improvement judicial officer court staff external justice partner identify resolve project issue collaborating court staff project team justice partner workgroups provides subject matter expertise determine optimum process deliver harassment restraining order case information ncic research business process used send receive case information court s subscription service court s integration justice partner provide recommendation improve exchange information work includes comparing research result standard guideline developing recommendation improve system operation ensure optimal public safety collaborate training professional training plan curriculum development court personnel justice partner typical qualification knowledge skill ability knowledge theory principle practice business process mapping workflow knowledge process followed court administration justice plus required knowledge project research planning implementation evaluation technique ability provide support workgroups committee knowledge hardware software used business environment experience working mncis case management system personbased application plus required ability communicate effectively orally writing ability establish maintain effective working relationship team member justice partner member general public ability independently create edit explain business process map successful candidate required pas criminal background check qualification combination training work experience indicates possession knowledge ability skill listed example acceptable qualification position bachelor s degree accredited college university political science public affair criminal justice sociology closely related field extensive experience court administration may considered lieu degree provided knowledge skill ability noted met supplemental information salary range benefit 2572 3983 per hour 53703 83165 annually starting salary depending upon qualification excellent state mn benefit package benefit information visit http mngov mmb segip application deadline august 20 2018 1159pm apply apply online wwwmncourtsgov question call 6512054439 minnesota judicial branch 25 rev dr martin luther king jr blvd st paul mn 55155 eoe\n",
      "------------------------------------------------------------------------------------------------------------------------\n",
      "Business Analyst\n",
      "summary our client is a fast growing pharmacutical company in central florida the company is led by a dynamic and energetic executive team to become the leading health plan in central fl we are seeking a health information business analyst to help execute and support the companies growing practice knowledge in medicare part d is mandatory essential duties and responsibilities include the following other duties may be assigned analyzes business problems or improvement opportunities and helps apply the appropriate people process or technology solutions documents workflow process or data flows using standard analysis and business methodologies applies systems applications reports or technologies to solve business problems or aid in improvement opportunities manages projects including appropriate planning documentation communication escalation task completion and the indirectly management of others develops and maintains computer software system for documenting storing and retrieving information and for processing data supervisory responsibilities this job has no supervisory responsibilities qualifications to perform this job successfully an individual must be able to perform each essential duty satisfactorily the requirements listed are representative of the knowledge skill and or ability required reasonable accommodations may be made to enable individuals with disabilities to perform the essential functions education and or experience bachelors degree from fouryear college or university or five years related experience and or training or equivalent combination of education and experience mathematical skills the position will require the ability to perform and present calculations appropriate to business analysis including but not limited to return on investment roi variable cost analysis statistical analysis and other appropriate quantitative analyses computer skills to perform this job successfully an individual should have expert working knowledge of microsoft office software including microsoft outlook excel word powerpoint general project software and various programming languages and reporting tools certificates licenses registrations six sigma lean rhia rhit pmp capm cbap ccba hit cphims or similar certifications appropriate to process improvement quality healthcare healthcare it project management business analysis government programs healthcare or similar are preferred but not required other qualifications at least 5 years previous experience in managing health information systems preferred previous experience in managed care and medicare strongly preferred while performing the duties of this job the employee is regularly required to sit the employee is frequently required to talk or hear the employee must occasionally lift and or move up to 25 pounds specific vision abilities required by this job include close vision distance vision color vision and ability to adjust focus work environment the work environment characteristics described here are representative of those an employee encounters while performing the essential functions of this job reasonable accommodations may be made to enable individuals with disabilities to perform the essential functions the noise level in the work environment is usually quiet\n",
      "------------------------------------------------------------------------------------------------------------------------\n",
      "Business Analyst\n",
      "company overview gannett fleming believe improving life people serve believe innovation social responsibility believe diversity team creative solution provide believe embracing change emerging technology maintaining unmatched standard quality believe creating environment employee thrive home work believe engaging employee building lasting relationship client turn making difference world excellence delivered promised slogan standard expectation place upon individual company represents commitment valued client industry partner employee earnest pledge say core firm foundation upon relationship project built business technology solution team provides advisory service improve performance infrastructure asset focus improving outcome delivering value client work policy management operational level project typically include combination following organizational change business process improvement capital plan program development maintenance management technology development apply qualitative quantitative information improve decisionmaking gannett fleming looking ambitious selfstarter join business technology solution team business analyst either new york city washington dc office successful candidate strong critical thinking skill desire expand learn area include infrastructure performance capital planning prioritization maintenance management asset management transportation infrastructure opportunity develop technical knowledge collaboration client colleague part dynamic multidisciplinary team close supervision business analyst 1 learn combine problem solving analytical skill innovation deliver highest level key responsibility utilize microsoft excel data modelling multiple source maintaining excel model process quantitative analysis performance transportation infrastructure transportation service provider support staff management specified assignment duty minimum qualification enrolled within master program area transportation planning engineering public administration related field experience microsoft excel data modelling knowledge standard financial modelling practice interest use application data analysis transit industry strong analytical quantitative skill excellent verbal organizational skill comfortable use microsoft office product especially microsoft excel life gannett fleming 100 year leader global infrastructure solution focus planning design technology construction management service diverse array market discipline across 60 office 2000+ highly qualified professional united unyielding commitment deliver excellence every client every project every day gannett fleming equal opportunity affirmative action employer including veteran disability status gannett fleming inc sponsor employment visa eg h1b visa including visa renewal employment candidate position relocation assistance provided position local resident given preference agency please unsolicited resume third party agency accepted location new york ny working hour 8 5 pm employment status fulltime internal requisition id 5161 liam1\n",
      "------------------------------------------------------------------------------------------------------------------------\n",
      "Business Analyst\n",
      "role title financial business analyst powerapps job type contract fulltime w2 estimated start date august 20 2018 contract duration 18 month location redmond wa want steady income outstanding benefit job let shine best want role let dive deepusing talent expertise drivewhile challenging continue develop contribute whether seeking longterm contract opportunity permanent job placement team red dog ha client looking skill experience business overview client multinational software tech company need financial business analyst building powerapps bi tool incorporating data various source team responsible development assessment tool data eventual presentation data power bi dashboard powerpoint presentation various stakeholder ideal candidate organized highly motivated analytical thinker financial background combination technical skill effective collaboration communication responsibility include limited following develop tool powerapps utilizing data source sharepoint list excel sql connection assist data entry audit associated powerapps build create appealing informative presentation powerpoint build power bi dashboard conduct structured analysis organize cross functional activity ensure tool completed schedule within budget constraint communicate clearly technical and or project subject matter initiation delivery qualifications experience b degree finance analytics related discipline preferred 13 year experience analyst working powerapps power bi sharepoint strong microsoft excel required experience sql basic query financial technical background preferred able create flawless presentation powerpoint excellent communication collaboration skill exceptional business planning problem solving analytical skill quickly apply fill online form questionnaire attach resume cover letter optional background match specific role someone recruiting team contact within 24 hour applicant must authorized work us without need sponsorship team red dog formerly red dog interactive inc everify employer please solicitation c2c recruiting firm\n"
     ]
    }
   ],
   "source": [
    "app = Flask(__name__)\n",
    "\n",
    "@app.route('/get_simmilar/', methods=['POST'])\n",
    "# 返回最接近的向量\n",
    "def get_simmilar():\n",
    "    print( 'get_simmilar' )\n",
    "    \n",
    "    number = 5\n",
    "    my_clean_text = clean_text( eval(request.get_data())['CV'] )\n",
    "    print( my_clean_text )\n",
    "    \n",
    "    D, I = index.search( intermediate_model.predict( np.array( PreProcessInputData( [  my_clean_text.split()[:max_word_length] ] ) ) )[0][0] , number)\n",
    "    \n",
    "    # 返回最接近的职位描述\n",
    "    response = {}\n",
    "    for ind in I[0]:\n",
    "        print('-'*120)\n",
    "        print( data['Query'].iloc[ind] )\n",
    "        print( data['Description'].iloc[ind] )\n",
    "        response[str(ind)] = data['Description'].iloc[ind]\n",
    "    \n",
    "    return str(response)\n",
    "\n",
    "if __name__ == '__main__':\n",
    "    app.run(host=\"0.0.0.0\", port=3335)"
   ]
  },
  {
   "cell_type": "code",
   "execution_count": null,
   "metadata": {},
   "outputs": [],
   "source": []
  },
  {
   "cell_type": "code",
   "execution_count": null,
   "metadata": {},
   "outputs": [],
   "source": []
  }
 ],
 "metadata": {
  "kernelspec": {
   "display_name": "Python 3",
   "language": "python",
   "name": "python3"
  },
  "language_info": {
   "codemirror_mode": {
    "name": "ipython",
    "version": 3
   },
   "file_extension": ".py",
   "mimetype": "text/x-python",
   "name": "python",
   "nbconvert_exporter": "python",
   "pygments_lexer": "ipython3",
   "version": "3.6.7"
  }
 },
 "nbformat": 4,
 "nbformat_minor": 2
}
